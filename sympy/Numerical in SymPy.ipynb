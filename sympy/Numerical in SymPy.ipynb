{
 "nbformat": 4,
 "nbformat_minor": 0,
 "metadata": {
  "colab": {
   "provenance": [],
   "authorship_tag": "ABX9TyPstE6n365LK6C5037/rL1d"
  },
  "kernelspec": {
   "name": "python3",
   "display_name": "Python 3"
  },
  "language_info": {
   "name": "python"
  }
 },
 "cells": [
  {
   "cell_type": "code",
   "execution_count": 1,
   "metadata": {
    "id": "WQDSCZV5Y3_q",
    "executionInfo": {
     "status": "ok",
     "timestamp": 1755389877258,
     "user_tz": 240,
     "elapsed": 5943,
     "user": {
      "displayName": "Rishab Alagharu",
      "userId": "00430901930976372567"
     }
    }
   },
   "outputs": [],
   "source": [
    "import sympy as sp"
   ]
  },
  {
   "cell_type": "code",
   "source": [
    "# Define the symbol x\n",
    "x = sp.Symbol(\"x\")\n",
    "x"
   ],
   "metadata": {
    "colab": {
     "base_uri": "https://localhost:8080/",
     "height": 39
    },
    "id": "_qMpybQRY60b",
    "executionInfo": {
     "status": "ok",
     "timestamp": 1755389890278,
     "user_tz": 240,
     "elapsed": 6,
     "user": {
      "displayName": "Rishab Alagharu",
      "userId": "00430901930976372567"
     }
    },
    "outputId": "15c63fa8-e2c5-4586-d3cc-c636fed134b3"
   },
   "execution_count": 3,
   "outputs": [
    {
     "output_type": "execute_result",
     "data": {
      "text/plain": [
       "x"
      ],
      "text/latex": "$\\displaystyle x$"
     },
     "metadata": {},
     "execution_count": 3
    }
   ]
  },
  {
   "cell_type": "markdown",
   "source": [
    "# Floating-Point Numbers with Evalf"
   ],
   "metadata": {
    "id": "w7cYE2nzZBmm"
   }
  },
  {
   "cell_type": "code",
   "source": [
    "# Create an expression\n",
    "expr = sp.pi * x**2 + 5 * x + sp.E\n",
    "expr"
   ],
   "metadata": {
    "colab": {
     "base_uri": "https://localhost:8080/",
     "height": 39
    },
    "id": "6_z1vRu5ZC2m",
    "executionInfo": {
     "status": "ok",
     "timestamp": 1755389912602,
     "user_tz": 240,
     "elapsed": 197,
     "user": {
      "displayName": "Rishab Alagharu",
      "userId": "00430901930976372567"
     }
    },
    "outputId": "921d2fc9-2879-48e3-eb4c-daa7792b9423"
   },
   "execution_count": 4,
   "outputs": [
    {
     "output_type": "execute_result",
     "data": {
      "text/plain": [
       "pi*x**2 + 5*x + E"
      ],
      "text/latex": "$\\displaystyle \\pi x^{2} + 5 x + e$"
     },
     "metadata": {},
     "execution_count": 4
    }
   ]
  },
  {
   "cell_type": "code",
   "source": [
    "# Simple substitution\n",
    "value = expr.subs(x, 1)\n",
    "value"
   ],
   "metadata": {
    "colab": {
     "base_uri": "https://localhost:8080/",
     "height": 39
    },
    "id": "oEyubc8cZHHX",
    "executionInfo": {
     "status": "ok",
     "timestamp": 1755389936499,
     "user_tz": 240,
     "elapsed": 11,
     "user": {
      "displayName": "Rishab Alagharu",
      "userId": "00430901930976372567"
     }
    },
    "outputId": "c1aff27a-5abe-4ecd-c97f-9a1174be71d8"
   },
   "execution_count": 6,
   "outputs": [
    {
     "output_type": "execute_result",
     "data": {
      "text/plain": [
       "E + pi + 5"
      ],
      "text/latex": "$\\displaystyle e + \\pi + 5$"
     },
     "metadata": {},
     "execution_count": 6
    }
   ]
  },
  {
   "cell_type": "code",
   "source": [
    "# Get the floating-point number\n",
    "value.evalf()"
   ],
   "metadata": {
    "colab": {
     "base_uri": "https://localhost:8080/",
     "height": 37
    },
    "id": "uH5m6t0gZN0L",
    "executionInfo": {
     "status": "ok",
     "timestamp": 1755389959653,
     "user_tz": 240,
     "elapsed": 8,
     "user": {
      "displayName": "Rishab Alagharu",
      "userId": "00430901930976372567"
     }
    },
    "outputId": "66dacdf6-8b5a-448c-d216-2deb634f277c"
   },
   "execution_count": 8,
   "outputs": [
    {
     "output_type": "execute_result",
     "data": {
      "text/plain": [
       "10.8598744820488"
      ],
      "text/latex": "$\\displaystyle 10.8598744820488$"
     },
     "metadata": {},
     "execution_count": 8
    }
   ]
  },
  {
   "cell_type": "code",
   "source": [
    "# Specify the precision\n",
    "value.evalf(8)  # Total digits"
   ],
   "metadata": {
    "colab": {
     "base_uri": "https://localhost:8080/",
     "height": 37
    },
    "id": "IDn3MOaZZSlx",
    "executionInfo": {
     "status": "ok",
     "timestamp": 1755389969599,
     "user_tz": 240,
     "elapsed": 8,
     "user": {
      "displayName": "Rishab Alagharu",
      "userId": "00430901930976372567"
     }
    },
    "outputId": "ed1cd700-c0b7-4457-e22e-c079061263fa"
   },
   "execution_count": 9,
   "outputs": [
    {
     "output_type": "execute_result",
     "data": {
      "text/plain": [
       "10.859874"
      ],
      "text/latex": "$\\displaystyle 10.859874$"
     },
     "metadata": {},
     "execution_count": 9
    }
   ]
  },
  {
   "cell_type": "code",
   "source": [
    "# Get the floating-pointer number (alternative)\n",
    "sp.N(value, 8)"
   ],
   "metadata": {
    "colab": {
     "base_uri": "https://localhost:8080/",
     "height": 37
    },
    "id": "-U9cmShnZXCf",
    "executionInfo": {
     "status": "ok",
     "timestamp": 1755389998154,
     "user_tz": 240,
     "elapsed": 7,
     "user": {
      "displayName": "Rishab Alagharu",
      "userId": "00430901930976372567"
     }
    },
    "outputId": "06171078-2a70-4e90-a7b2-7e77f8bbb3b3"
   },
   "execution_count": 11,
   "outputs": [
    {
     "output_type": "execute_result",
     "data": {
      "text/plain": [
       "10.859874"
      ],
      "text/latex": "$\\displaystyle 10.859874$"
     },
     "metadata": {},
     "execution_count": 11
    }
   ]
  },
  {
   "cell_type": "markdown",
   "source": [
    "# Numerical with Lambdify"
   ],
   "metadata": {
    "id": "CUqstMFiZdc7"
   }
  },
  {
   "cell_type": "code",
   "source": [
    "# Lambdifying the expression\n",
    "expr = sp.pi * x**2 + 5 * x + sp.E\n",
    "lambdified_expression = sp.lambdify(x, expr)\n",
    "lambdified_expression"
   ],
   "metadata": {
    "colab": {
     "base_uri": "https://localhost:8080/"
    },
    "id": "AggiZPNHZehv",
    "executionInfo": {
     "status": "ok",
     "timestamp": 1755390055901,
     "user_tz": 240,
     "elapsed": 686,
     "user": {
      "displayName": "Rishab Alagharu",
      "userId": "00430901930976372567"
     }
    },
    "outputId": "22a0ac46-203a-4107-d5dc-029f86dbb2d0"
   },
   "execution_count": 13,
   "outputs": [
    {
     "output_type": "execute_result",
     "data": {
      "text/plain": [
       "<function _lambdifygenerated(x)>"
      ]
     },
     "metadata": {},
     "execution_count": 13
    }
   ]
  },
  {
   "cell_type": "code",
   "source": [
    "# Easily evaluate points\n",
    "lambdified_expression(1)"
   ],
   "metadata": {
    "colab": {
     "base_uri": "https://localhost:8080/"
    },
    "id": "8BqSLj1dZqoz",
    "executionInfo": {
     "status": "ok",
     "timestamp": 1755390078819,
     "user_tz": 240,
     "elapsed": 8,
     "user": {
      "displayName": "Rishab Alagharu",
      "userId": "00430901930976372567"
     }
    },
    "outputId": "157fd99c-04a9-4e62-ff3e-b701aac5b3d5"
   },
   "execution_count": 16,
   "outputs": [
    {
     "output_type": "execute_result",
     "data": {
      "text/plain": [
       "10.859874482048838"
      ]
     },
     "metadata": {},
     "execution_count": 16
    }
   ]
  },
  {
   "cell_type": "code",
   "source": [
    "# Use numpy to create many points at once\n",
    "import numpy as np\n",
    "\n",
    "points = np.linspace(-20, 20, 100)\n",
    "len(points)"
   ],
   "metadata": {
    "colab": {
     "base_uri": "https://localhost:8080/"
    },
    "id": "dBGbCrjsZwD4",
    "executionInfo": {
     "status": "ok",
     "timestamp": 1755390170093,
     "user_tz": 240,
     "elapsed": 135,
     "user": {
      "displayName": "Rishab Alagharu",
      "userId": "00430901930976372567"
     }
    },
    "outputId": "ba8124b7-3a8b-47fb-ae1b-dbf3ea5fdab9"
   },
   "execution_count": 20,
   "outputs": [
    {
     "output_type": "execute_result",
     "data": {
      "text/plain": [
       "100"
      ]
     },
     "metadata": {},
     "execution_count": 20
    }
   ]
  },
  {
   "cell_type": "code",
   "source": [
    "# Evaluate all of the points at once\n",
    "output = lambdified_expression(points)\n",
    "len(output)"
   ],
   "metadata": {
    "colab": {
     "base_uri": "https://localhost:8080/"
    },
    "id": "XJXyj-XnZ4Vn",
    "executionInfo": {
     "status": "ok",
     "timestamp": 1755390259934,
     "user_tz": 240,
     "elapsed": 40,
     "user": {
      "displayName": "Rishab Alagharu",
      "userId": "00430901930976372567"
     }
    },
    "outputId": "c96bfc85-bc4d-4f39-8d1f-6157e7970a10"
   },
   "execution_count": 23,
   "outputs": [
    {
     "output_type": "execute_result",
     "data": {
      "text/plain": [
       "100"
      ]
     },
     "metadata": {},
     "execution_count": 23
    }
   ]
  },
  {
   "cell_type": "code",
   "source": [
    "# Can use matplotlib to plot points\n",
    "import matplotlib.pyplot as plt\n",
    "\n",
    "plt.plot(points, output)\n",
    "plt.title(\"Parabola\")\n",
    "\n",
    "plt.show()"
   ],
   "metadata": {
    "colab": {
     "base_uri": "https://localhost:8080/",
     "height": 452
    },
    "id": "q4oWijgkaGSl",
    "executionInfo": {
     "status": "ok",
     "timestamp": 1755390273942,
     "user_tz": 240,
     "elapsed": 448,
     "user": {
      "displayName": "Rishab Alagharu",
      "userId": "00430901930976372567"
     }
    },
    "outputId": "d3ff828c-59de-4bca-af6a-222874494da8"
   },
   "execution_count": 24,
   "outputs": [
    {
     "output_type": "display_data",
     "data": {
      "text/plain": [
       "<Figure size 640x480 with 1 Axes>"
      ],
      "image/png": "[encoded data removed]"
     },
     "metadata": {}
    }
   ]
  }
 ]
}