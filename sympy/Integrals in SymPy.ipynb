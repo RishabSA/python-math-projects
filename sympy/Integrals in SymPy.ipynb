{
 "nbformat": 4,
 "nbformat_minor": 0,
 "metadata": {
  "colab": {
   "provenance": [],
   "authorship_tag": "ABX9TyOa9jHVRFjgL+8aEWftos0A"
  },
  "kernelspec": {
   "name": "python3",
   "display_name": "Python 3"
  },
  "language_info": {
   "name": "python"
  }
 },
 "cells": [
  {
   "cell_type": "code",
   "execution_count": 1,
   "metadata": {
    "id": "NLg0TpF7FHLv",
    "executionInfo": {
     "status": "ok",
     "timestamp": 1755384698915,
     "user_tz": 240,
     "elapsed": 4467,
     "user": {
      "displayName": "Rishab Alagharu",
      "userId": "00430901930976372567"
     }
    }
   },
   "outputs": [],
   "source": [
    "import sympy as sp"
   ]
  },
  {
   "cell_type": "code",
   "source": [
    "# Define variables\n",
    "x, y, z = sp.symbols(\"x, y, z\")\n",
    "C = sp.Symbol(\"C\")\n",
    "x, y, z, C"
   ],
   "metadata": {
    "colab": {
     "base_uri": "https://localhost:8080/"
    },
    "id": "eQ2_Jd4FFLQK",
    "executionInfo": {
     "status": "ok",
     "timestamp": 1755385115347,
     "user_tz": 240,
     "elapsed": 5,
     "user": {
      "displayName": "Rishab Alagharu",
      "userId": "00430901930976372567"
     }
    },
    "outputId": "7247dd0d-c8e8-429a-99a7-a56836d9b7e6"
   },
   "execution_count": 3,
   "outputs": [
    {
     "output_type": "execute_result",
     "data": {
      "text/plain": [
       "(x, y, z, C)"
      ]
     },
     "metadata": {},
     "execution_count": 3
    }
   ]
  },
  {
   "cell_type": "markdown",
   "source": [
    "# Indefinite Integrals"
   ],
   "metadata": {
    "id": "vURCt61ZG0ep"
   }
  },
  {
   "cell_type": "code",
   "source": [
    "# Define a function\n",
    "f = sp.cos(2 * x) * sp.sin(3 * x)\n",
    "f"
   ],
   "metadata": {
    "colab": {
     "base_uri": "https://localhost:8080/",
     "height": 39
    },
    "id": "r3cUy4yOGz5R",
    "executionInfo": {
     "status": "ok",
     "timestamp": 1755385139035,
     "user_tz": 240,
     "elapsed": 15,
     "user": {
      "displayName": "Rishab Alagharu",
      "userId": "00430901930976372567"
     }
    },
    "outputId": "510a776e-8d99-40e1-eda5-45e65f7901ed"
   },
   "execution_count": 4,
   "outputs": [
    {
     "output_type": "execute_result",
     "data": {
      "text/plain": [
       "sin(3*x)*cos(2*x)"
      ],
      "text/latex": "$\\displaystyle \\sin{\\left(3 x \\right)} \\cos{\\left(2 x \\right)}$"
     },
     "metadata": {},
     "execution_count": 4
    }
   ]
  },
  {
   "cell_type": "code",
   "source": [
    "# Integrate the function\n",
    "(\n",
    "    sp.integrate(f) + C\n",
    ")  # Sympy does not add the indefinite constant of integration `C` automatically"
   ],
   "metadata": {
    "colab": {
     "base_uri": "https://localhost:8080/",
     "height": 53
    },
    "id": "6e0KD5S4G5uq",
    "executionInfo": {
     "status": "ok",
     "timestamp": 1755385187767,
     "user_tz": 240,
     "elapsed": 17,
     "user": {
      "displayName": "Rishab Alagharu",
      "userId": "00430901930976372567"
     }
    },
    "outputId": "fa895f24-ed21-4660-9b42-8e4dc63d2a26"
   },
   "execution_count": 8,
   "outputs": [
    {
     "output_type": "execute_result",
     "data": {
      "text/plain": [
       "C - 2*sin(2*x)*sin(3*x)/5 - 3*cos(2*x)*cos(3*x)/5"
      ],
      "text/latex": "$\\displaystyle C - \\frac{2 \\sin{\\left(2 x \\right)} \\sin{\\left(3 x \\right)}}{5} - \\frac{3 \\cos{\\left(2 x \\right)} \\cos{\\left(3 x \\right)}}{5}$"
     },
     "metadata": {},
     "execution_count": 8
    }
   ]
  },
  {
   "cell_type": "code",
   "source": [
    "# Returns the original function\n",
    "sp.integrate(f).diff()"
   ],
   "metadata": {
    "colab": {
     "base_uri": "https://localhost:8080/",
     "height": 39
    },
    "id": "SEwHV09cG-6u",
    "executionInfo": {
     "status": "ok",
     "timestamp": 1755385175719,
     "user_tz": 240,
     "elapsed": 40,
     "user": {
      "displayName": "Rishab Alagharu",
      "userId": "00430901930976372567"
     }
    },
    "outputId": "f7476ec4-e004-416e-f91e-a4b3aeb98e20"
   },
   "execution_count": 7,
   "outputs": [
    {
     "output_type": "execute_result",
     "data": {
      "text/plain": [
       "sin(3*x)*cos(2*x)"
      ],
      "text/latex": "$\\displaystyle \\sin{\\left(3 x \\right)} \\cos{\\left(2 x \\right)}$"
     },
     "metadata": {},
     "execution_count": 7
    }
   ]
  },
  {
   "cell_type": "code",
   "source": [
    "# Emphasize the variable x\n",
    "sp.integrate(f, x)"
   ],
   "metadata": {
    "colab": {
     "base_uri": "https://localhost:8080/",
     "height": 53
    },
    "id": "KpBlF1XGHMqi",
    "executionInfo": {
     "status": "ok",
     "timestamp": 1755385231895,
     "user_tz": 240,
     "elapsed": 46,
     "user": {
      "displayName": "Rishab Alagharu",
      "userId": "00430901930976372567"
     }
    },
    "outputId": "f6fb3e91-246c-49f2-a424-92415b5c3847"
   },
   "execution_count": 9,
   "outputs": [
    {
     "output_type": "execute_result",
     "data": {
      "text/plain": [
       "-2*sin(2*x)*sin(3*x)/5 - 3*cos(2*x)*cos(3*x)/5"
      ],
      "text/latex": "$\\displaystyle - \\frac{2 \\sin{\\left(2 x \\right)} \\sin{\\left(3 x \\right)}}{5} - \\frac{3 \\cos{\\left(2 x \\right)} \\cos{\\left(3 x \\right)}}{5}$"
     },
     "metadata": {},
     "execution_count": 9
    }
   ]
  },
  {
   "cell_type": "code",
   "source": [
    "# Two dimensional function\n",
    "g = x**y\n",
    "g"
   ],
   "metadata": {
    "colab": {
     "base_uri": "https://localhost:8080/",
     "height": 39
    },
    "id": "lj-ElCA8HQ5a",
    "executionInfo": {
     "status": "ok",
     "timestamp": 1755385248806,
     "user_tz": 240,
     "elapsed": 10,
     "user": {
      "displayName": "Rishab Alagharu",
      "userId": "00430901930976372567"
     }
    },
    "outputId": "ce16fa00-61d5-47f2-9907-bd88cb6f160e"
   },
   "execution_count": 10,
   "outputs": [
    {
     "output_type": "execute_result",
     "data": {
      "text/plain": [
       "x**y"
      ],
      "text/latex": "$\\displaystyle x^{y}$"
     },
     "metadata": {},
     "execution_count": 10
    }
   ]
  },
  {
   "cell_type": "code",
   "source": [
    "# Integrate the function with respect to x\n",
    "h = sp.integrate(g, x)\n",
    "h  # Returns a piecewise functions"
   ],
   "metadata": {
    "colab": {
     "base_uri": "https://localhost:8080/",
     "height": 68
    },
    "id": "akXg8TUbHUSG",
    "executionInfo": {
     "status": "ok",
     "timestamp": 1755385270433,
     "user_tz": 240,
     "elapsed": 35,
     "user": {
      "displayName": "Rishab Alagharu",
      "userId": "00430901930976372567"
     }
    },
    "outputId": "cd9cd2df-0498-438b-d17d-88dbebb0efc3"
   },
   "execution_count": 11,
   "outputs": [
    {
     "output_type": "execute_result",
     "data": {
      "text/plain": [
       "Piecewise((x**(y + 1)/(y + 1), Ne(y, -1)), (log(x), True))"
      ],
      "text/latex": "$\\displaystyle \\begin{cases} \\frac{x^{y + 1}}{y + 1} & \\text{for}\\: y \\neq -1 \\\\\\log{\\left(x \\right)} & \\text{otherwise} \\end{cases}$"
     },
     "metadata": {},
     "execution_count": 11
    }
   ]
  },
  {
   "cell_type": "markdown",
   "source": [
    "# Definite Integrals"
   ],
   "metadata": {
    "id": "HjMi3zoHHj94"
   }
  },
  {
   "cell_type": "code",
   "source": [
    "# Define a function\n",
    "f = sp.cos(2 * x) * sp.sin(3 * x)\n",
    "f"
   ],
   "metadata": {
    "colab": {
     "base_uri": "https://localhost:8080/",
     "height": 39
    },
    "id": "5TJZ8LHrHkkr",
    "executionInfo": {
     "status": "ok",
     "timestamp": 1755385328671,
     "user_tz": 240,
     "elapsed": 6,
     "user": {
      "displayName": "Rishab Alagharu",
      "userId": "00430901930976372567"
     }
    },
    "outputId": "2d7ae445-3eea-426a-ed05-f5a6d87e58c5"
   },
   "execution_count": 13,
   "outputs": [
    {
     "output_type": "execute_result",
     "data": {
      "text/plain": [
       "sin(3*x)*cos(2*x)"
      ],
      "text/latex": "$\\displaystyle \\sin{\\left(3 x \\right)} \\cos{\\left(2 x \\right)}$"
     },
     "metadata": {},
     "execution_count": 13
    }
   ]
  },
  {
   "cell_type": "code",
   "source": [
    "# Specify the upper and lower limits of the definite integral\n",
    "sp.integrate(f, (x, 0, sp.pi))"
   ],
   "metadata": {
    "colab": {
     "base_uri": "https://localhost:8080/",
     "height": 51
    },
    "id": "PipzcA8jHnwL",
    "executionInfo": {
     "status": "ok",
     "timestamp": 1755385346016,
     "user_tz": 240,
     "elapsed": 83,
     "user": {
      "displayName": "Rishab Alagharu",
      "userId": "00430901930976372567"
     }
    },
    "outputId": "00d50d0b-eddc-4855-de87-216469b89c8f"
   },
   "execution_count": 14,
   "outputs": [
    {
     "output_type": "execute_result",
     "data": {
      "text/plain": [
       "6/5"
      ],
      "text/latex": "$\\displaystyle \\frac{6}{5}$"
     },
     "metadata": {},
     "execution_count": 14
    }
   ]
  },
  {
   "cell_type": "code",
   "source": [
    "# Define a function\n",
    "u = sp.exp(-x)\n",
    "u"
   ],
   "metadata": {
    "colab": {
     "base_uri": "https://localhost:8080/",
     "height": 39
    },
    "id": "_tWJiX_3Hsgx",
    "executionInfo": {
     "status": "ok",
     "timestamp": 1755385364759,
     "user_tz": 240,
     "elapsed": 5,
     "user": {
      "displayName": "Rishab Alagharu",
      "userId": "00430901930976372567"
     }
    },
    "outputId": "bf72f170-8cd6-4e34-f3f7-bbb6ea640e5d"
   },
   "execution_count": 15,
   "outputs": [
    {
     "output_type": "execute_result",
     "data": {
      "text/plain": [
       "exp(-x)"
      ],
      "text/latex": "$\\displaystyle e^{- x}$"
     },
     "metadata": {},
     "execution_count": 15
    }
   ]
  },
  {
   "cell_type": "code",
   "source": [
    "# Integrate the function from [0, +oo]\n",
    "sp.integrate(u, (x, 0, sp.oo))"
   ],
   "metadata": {
    "colab": {
     "base_uri": "https://localhost:8080/",
     "height": 37
    },
    "id": "g-1c0yCyHwV3",
    "executionInfo": {
     "status": "ok",
     "timestamp": 1755385403332,
     "user_tz": 240,
     "elapsed": 11,
     "user": {
      "displayName": "Rishab Alagharu",
      "userId": "00430901930976372567"
     }
    },
    "outputId": "81a7b640-1f3c-4137-f4bf-3330dc752867"
   },
   "execution_count": 17,
   "outputs": [
    {
     "output_type": "execute_result",
     "data": {
      "text/plain": [
       "1"
      ],
      "text/latex": "$\\displaystyle 1$"
     },
     "metadata": {},
     "execution_count": 17
    }
   ]
  },
  {
   "cell_type": "markdown",
   "source": [
    "# Multiariate Integrals"
   ],
   "metadata": {
    "id": "Vplb51EpH693"
   }
  },
  {
   "cell_type": "code",
   "source": [
    "# Define a function\n",
    "w = x * y * z**2\n",
    "w"
   ],
   "metadata": {
    "colab": {
     "base_uri": "https://localhost:8080/",
     "height": 39
    },
    "id": "4l5t3qO7H8GF",
    "executionInfo": {
     "status": "ok",
     "timestamp": 1755385427465,
     "user_tz": 240,
     "elapsed": 6,
     "user": {
      "displayName": "Rishab Alagharu",
      "userId": "00430901930976372567"
     }
    },
    "outputId": "27d35a5d-d247-46f6-d883-6cfefc052da4"
   },
   "execution_count": 18,
   "outputs": [
    {
     "output_type": "execute_result",
     "data": {
      "text/plain": [
       "x*y*z**2"
      ],
      "text/latex": "$\\displaystyle x y z^{2}$"
     },
     "metadata": {},
     "execution_count": 18
    }
   ]
  },
  {
   "cell_type": "code",
   "source": [
    "# Get the indefinite integral\n",
    "sp.integrate(w, x, y)"
   ],
   "metadata": {
    "colab": {
     "base_uri": "https://localhost:8080/",
     "height": 54
    },
    "id": "YITSl1wIH_1r",
    "executionInfo": {
     "status": "ok",
     "timestamp": 1755385454096,
     "user_tz": 240,
     "elapsed": 42,
     "user": {
      "displayName": "Rishab Alagharu",
      "userId": "00430901930976372567"
     }
    },
    "outputId": "18772e29-5a4d-4e0f-b2d6-9cd0a52f663f"
   },
   "execution_count": 19,
   "outputs": [
    {
     "output_type": "execute_result",
     "data": {
      "text/plain": [
       "x**2*y**2*z**2/4"
      ],
      "text/latex": "$\\displaystyle \\frac{x^{2} y^{2} z^{2}}{4}$"
     },
     "metadata": {},
     "execution_count": 19
    }
   ]
  },
  {
   "cell_type": "code",
   "source": [
    "# Get the definite integral\n",
    "sp.integrate(w, (x, 0, 1), (y, 1, 5), (z, 0, 3))"
   ],
   "metadata": {
    "colab": {
     "base_uri": "https://localhost:8080/",
     "height": 37
    },
    "id": "fooLZcZ9IDPD",
    "executionInfo": {
     "status": "ok",
     "timestamp": 1755385485811,
     "user_tz": 240,
     "elapsed": 22,
     "user": {
      "displayName": "Rishab Alagharu",
      "userId": "00430901930976372567"
     }
    },
    "outputId": "81904bc4-82c2-47f5-ea09-7bbe40905a25"
   },
   "execution_count": 23,
   "outputs": [
    {
     "output_type": "execute_result",
     "data": {
      "text/plain": [
       "54"
      ],
      "text/latex": "$\\displaystyle 54$"
     },
     "metadata": {},
     "execution_count": 23
    }
   ]
  }
 ]
}