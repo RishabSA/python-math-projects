{
 "nbformat": 4,
 "nbformat_minor": 0,
 "metadata": {
  "colab": {
   "provenance": [],
   "authorship_tag": "ABX9TyMElcHxizX3x3Wxom5uWg8q"
  },
  "kernelspec": {
   "name": "python3",
   "display_name": "Python 3"
  },
  "language_info": {
   "name": "python"
  }
 },
 "cells": [
  {
   "cell_type": "code",
   "execution_count": 1,
   "metadata": {
    "id": "9QJ3MeJm-r9C",
    "executionInfo": {
     "status": "ok",
     "timestamp": 1755383008827,
     "user_tz": 240,
     "elapsed": 3282,
     "user": {
      "displayName": "Rishab Alagharu",
      "userId": "00430901930976372567"
     }
    }
   },
   "outputs": [],
   "source": [
    "import sympy as sp"
   ]
  },
  {
   "cell_type": "markdown",
   "source": [
    "# Real, Positive, or Integer Symbols"
   ],
   "metadata": {
    "id": "H5d8wxa3_A9i"
   }
  },
  {
   "cell_type": "code",
   "source": [
    "z = sp.Symbol(\"z\")\n",
    "sp.log(sp.exp(z))"
   ],
   "metadata": {
    "colab": {
     "base_uri": "https://localhost:8080/",
     "height": 39
    },
    "id": "OEq5Ch4d-u93",
    "executionInfo": {
     "status": "ok",
     "timestamp": 1755383110461,
     "user_tz": 240,
     "elapsed": 61,
     "user": {
      "displayName": "Rishab Alagharu",
      "userId": "00430901930976372567"
     }
    },
    "outputId": "acf25f89-89f9-438c-81f1-f41d20baacd5"
   },
   "execution_count": 2,
   "outputs": [
    {
     "output_type": "execute_result",
     "data": {
      "text/plain": [
       "log(exp(z))"
      ],
      "text/latex": "$\\displaystyle \\log{\\left(e^{z} \\right)}$"
     },
     "metadata": {},
     "execution_count": 2
    }
   ]
  },
  {
   "cell_type": "code",
   "source": [
    "# Make 3 real symbols\n",
    "x_0, x_1, x_2 = sp.symbols(\"x0:3\", real=True)\n",
    "x_0, x_1, x_2"
   ],
   "metadata": {
    "colab": {
     "base_uri": "https://localhost:8080/"
    },
    "id": "Un5hXg3D_Kdt",
    "executionInfo": {
     "status": "ok",
     "timestamp": 1755383172715,
     "user_tz": 240,
     "elapsed": 6,
     "user": {
      "displayName": "Rishab Alagharu",
      "userId": "00430901930976372567"
     }
    },
    "outputId": "ef7169d8-1625-4b6b-c43f-2a6fcdaf08cc"
   },
   "execution_count": 6,
   "outputs": [
    {
     "output_type": "execute_result",
     "data": {
      "text/plain": [
       "(x0, x1, x2)"
      ]
     },
     "metadata": {},
     "execution_count": 6
    }
   ]
  },
  {
   "cell_type": "code",
   "source": [
    "# This works since x0 is real\n",
    "sp.log(sp.exp(x_0))"
   ],
   "metadata": {
    "colab": {
     "base_uri": "https://localhost:8080/",
     "height": 39
    },
    "id": "VVZf40Td_TBZ",
    "executionInfo": {
     "status": "ok",
     "timestamp": 1755383175021,
     "user_tz": 240,
     "elapsed": 5,
     "user": {
      "displayName": "Rishab Alagharu",
      "userId": "00430901930976372567"
     }
    },
    "outputId": "4f737b3f-ce25-4932-9cc6-736bd5ecdc6a"
   },
   "execution_count": 7,
   "outputs": [
    {
     "output_type": "execute_result",
     "data": {
      "text/plain": [
       "x0"
      ],
      "text/latex": "$\\displaystyle x_{0}$"
     },
     "metadata": {},
     "execution_count": 7
    }
   ]
  },
  {
   "cell_type": "code",
   "source": [
    "# Evaluates to the absolute value\n",
    "sp.sqrt(x_0**2)"
   ],
   "metadata": {
    "colab": {
     "base_uri": "https://localhost:8080/",
     "height": 39
    },
    "id": "SM0OHoI5_ceK",
    "executionInfo": {
     "status": "ok",
     "timestamp": 1755383197618,
     "user_tz": 240,
     "elapsed": 5,
     "user": {
      "displayName": "Rishab Alagharu",
      "userId": "00430901930976372567"
     }
    },
    "outputId": "6df09697-3f1b-4483-f91a-5a02b05acf33"
   },
   "execution_count": 8,
   "outputs": [
    {
     "output_type": "execute_result",
     "data": {
      "text/plain": [
       "Abs(x0)"
      ],
      "text/latex": "$\\displaystyle \\left|{x_{0}}\\right|$"
     },
     "metadata": {},
     "execution_count": 8
    }
   ]
  },
  {
   "cell_type": "code",
   "source": [
    "# Make a positive symbol\n",
    "x = sp.Symbol(\"x\", positive=True)\n",
    "x"
   ],
   "metadata": {
    "colab": {
     "base_uri": "https://localhost:8080/",
     "height": 39
    },
    "id": "Sbi68gkGANX7",
    "executionInfo": {
     "status": "ok",
     "timestamp": 1755383398031,
     "user_tz": 240,
     "elapsed": 8,
     "user": {
      "displayName": "Rishab Alagharu",
      "userId": "00430901930976372567"
     }
    },
    "outputId": "c48986ee-94cb-45fb-c248-5c859dc169ca"
   },
   "execution_count": 9,
   "outputs": [
    {
     "output_type": "execute_result",
     "data": {
      "text/plain": [
       "x"
      ],
      "text/latex": "$\\displaystyle x$"
     },
     "metadata": {},
     "execution_count": 9
    }
   ]
  },
  {
   "cell_type": "code",
   "source": [
    "# Since x is a positive value, this does nothing\n",
    "sp.sqrt(x**2)"
   ],
   "metadata": {
    "colab": {
     "base_uri": "https://localhost:8080/",
     "height": 39
    },
    "id": "sq7V4D9-AQOE",
    "executionInfo": {
     "status": "ok",
     "timestamp": 1755383426127,
     "user_tz": 240,
     "elapsed": 10,
     "user": {
      "displayName": "Rishab Alagharu",
      "userId": "00430901930976372567"
     }
    },
    "outputId": "4f468bf6-60d1-4e94-def4-3ae643cbd3bb"
   },
   "execution_count": 11,
   "outputs": [
    {
     "output_type": "execute_result",
     "data": {
      "text/plain": [
       "x"
      ],
      "text/latex": "$\\displaystyle x$"
     },
     "metadata": {},
     "execution_count": 11
    }
   ]
  },
  {
   "cell_type": "code",
   "source": [
    "# Make an integer symbol\n",
    "n = sp.Symbol(\"n\", integer=True)\n",
    "n"
   ],
   "metadata": {
    "colab": {
     "base_uri": "https://localhost:8080/",
     "height": 39
    },
    "id": "VKOPjJXIA87P",
    "executionInfo": {
     "status": "ok",
     "timestamp": 1755383636355,
     "user_tz": 240,
     "elapsed": 98,
     "user": {
      "displayName": "Rishab Alagharu",
      "userId": "00430901930976372567"
     }
    },
    "outputId": "c057a1cf-4dff-40fe-dc30-f3676a66627c"
   },
   "execution_count": 16,
   "outputs": [
    {
     "output_type": "execute_result",
     "data": {
      "text/plain": [
       "n"
      ],
      "text/latex": "$\\displaystyle n$"
     },
     "metadata": {},
     "execution_count": 16
    }
   ]
  },
  {
   "cell_type": "code",
   "source": [
    "# This only works since n is an integer\n",
    "(-1) ** (2 * n)"
   ],
   "metadata": {
    "colab": {
     "base_uri": "https://localhost:8080/",
     "height": 37
    },
    "id": "4P3bF7n-A__7",
    "executionInfo": {
     "status": "ok",
     "timestamp": 1755383637191,
     "user_tz": 240,
     "elapsed": 4,
     "user": {
      "displayName": "Rishab Alagharu",
      "userId": "00430901930976372567"
     }
    },
    "outputId": "3132d1eb-ba03-4fa5-f393-e8a0d8836611"
   },
   "execution_count": 17,
   "outputs": [
    {
     "output_type": "execute_result",
     "data": {
      "text/plain": [
       "1"
      ],
      "text/latex": "$\\displaystyle 1$"
     },
     "metadata": {},
     "execution_count": 17
    }
   ]
  },
  {
   "cell_type": "markdown",
   "source": [
    "# Point Evaluation of Expressions"
   ],
   "metadata": {
    "id": "tGToUpkzBaZ4"
   }
  },
  {
   "cell_type": "code",
   "source": [
    "# Create an expression\n",
    "expr = x_0**2 + 5\n",
    "expr"
   ],
   "metadata": {
    "colab": {
     "base_uri": "https://localhost:8080/",
     "height": 39
    },
    "id": "ff9Ii8-SBbly",
    "executionInfo": {
     "status": "ok",
     "timestamp": 1755383718914,
     "user_tz": 240,
     "elapsed": 116,
     "user": {
      "displayName": "Rishab Alagharu",
      "userId": "00430901930976372567"
     }
    },
    "outputId": "19cd9229-f3c5-4a77-cb20-346ca658cb89"
   },
   "execution_count": 18,
   "outputs": [
    {
     "output_type": "execute_result",
     "data": {
      "text/plain": [
       "x0**2 + 5"
      ],
      "text/latex": "$\\displaystyle x_{0}^{2} + 5$"
     },
     "metadata": {},
     "execution_count": 18
    }
   ]
  },
  {
   "cell_type": "code",
   "source": [
    "# Insert pi into expression\n",
    "num = expr.subs(x_0, sp.pi)\n",
    "num"
   ],
   "metadata": {
    "colab": {
     "base_uri": "https://localhost:8080/",
     "height": 39
    },
    "id": "x5BIfZbMBkQw",
    "executionInfo": {
     "status": "ok",
     "timestamp": 1755383849862,
     "user_tz": 240,
     "elapsed": 10,
     "user": {
      "displayName": "Rishab Alagharu",
      "userId": "00430901930976372567"
     }
    },
    "outputId": "4897f372-1894-4e23-c4be-4552b4435f32"
   },
   "execution_count": 23,
   "outputs": [
    {
     "output_type": "execute_result",
     "data": {
      "text/plain": [
       "5 + pi**2"
      ],
      "text/latex": "$\\displaystyle 5 + \\pi^{2}$"
     },
     "metadata": {},
     "execution_count": 23
    }
   ]
  },
  {
   "cell_type": "code",
   "source": [
    "# Insert another expression into an expression\n",
    "expr.subs(x_0, x_1**2)"
   ],
   "metadata": {
    "colab": {
     "base_uri": "https://localhost:8080/",
     "height": 39
    },
    "id": "EToHlGP0BzUy",
    "executionInfo": {
     "status": "ok",
     "timestamp": 1755383825532,
     "user_tz": 240,
     "elapsed": 9,
     "user": {
      "displayName": "Rishab Alagharu",
      "userId": "00430901930976372567"
     }
    },
    "outputId": "a1ddf352-6139-40e0-a028-25c909085fc0"
   },
   "execution_count": 22,
   "outputs": [
    {
     "output_type": "execute_result",
     "data": {
      "text/plain": [
       "x1**4 + 5"
      ],
      "text/latex": "$\\displaystyle x_{1}^{4} + 5$"
     },
     "metadata": {},
     "execution_count": 22
    }
   ]
  },
  {
   "cell_type": "markdown",
   "source": [
    "# Numeric"
   ],
   "metadata": {
    "id": "Gd78g3CdCANa"
   }
  },
  {
   "cell_type": "code",
   "source": [
    "# Get the numeric representation of numbers\n",
    "# (Note: 15 decimals is the standard)\n",
    "sp.N(num)"
   ],
   "metadata": {
    "colab": {
     "base_uri": "https://localhost:8080/",
     "height": 37
    },
    "id": "wXK0zdGPCA8x",
    "executionInfo": {
     "status": "ok",
     "timestamp": 1755383891764,
     "user_tz": 240,
     "elapsed": 4,
     "user": {
      "displayName": "Rishab Alagharu",
      "userId": "00430901930976372567"
     }
    },
    "outputId": "8a59ab41-8388-4e85-e08b-7d443999f9a6"
   },
   "execution_count": 24,
   "outputs": [
    {
     "output_type": "execute_result",
     "data": {
      "text/plain": [
       "14.8696044010894"
      ],
      "text/latex": "$\\displaystyle 14.8696044010894$"
     },
     "metadata": {},
     "execution_count": 24
    }
   ]
  },
  {
   "cell_type": "code",
   "source": [
    "# Change the number of decimals\n",
    "sp.N(num, 3)"
   ],
   "metadata": {
    "colab": {
     "base_uri": "https://localhost:8080/",
     "height": 37
    },
    "id": "fCT56H4TCMrU",
    "executionInfo": {
     "status": "ok",
     "timestamp": 1755383924431,
     "user_tz": 240,
     "elapsed": 6,
     "user": {
      "displayName": "Rishab Alagharu",
      "userId": "00430901930976372567"
     }
    },
    "outputId": "a102476d-88f5-4e92-c188-a5f4a8169e7d"
   },
   "execution_count": 25,
   "outputs": [
    {
     "output_type": "execute_result",
     "data": {
      "text/plain": [
       "14.9"
      ],
      "text/latex": "$\\displaystyle 14.9$"
     },
     "metadata": {},
     "execution_count": 25
    }
   ]
  },
  {
   "cell_type": "code",
   "source": [
    "# Make constants in expressions numeric\n",
    "expr = sp.pi + x**2\n",
    "expr"
   ],
   "metadata": {
    "colab": {
     "base_uri": "https://localhost:8080/",
     "height": 39
    },
    "id": "ygq1GoMsCRjt",
    "executionInfo": {
     "status": "ok",
     "timestamp": 1755383961005,
     "user_tz": 240,
     "elapsed": 5,
     "user": {
      "displayName": "Rishab Alagharu",
      "userId": "00430901930976372567"
     }
    },
    "outputId": "122cf3d7-d67d-46f3-d1ab-22c6e3beb996"
   },
   "execution_count": 26,
   "outputs": [
    {
     "output_type": "execute_result",
     "data": {
      "text/plain": [
       "x**2 + pi"
      ],
      "text/latex": "$\\displaystyle x^{2} + \\pi$"
     },
     "metadata": {},
     "execution_count": 26
    }
   ]
  },
  {
   "cell_type": "code",
   "source": [
    "sp.N(expr)"
   ],
   "metadata": {
    "colab": {
     "base_uri": "https://localhost:8080/",
     "height": 39
    },
    "id": "P4WpJqVdCatf",
    "executionInfo": {
     "status": "ok",
     "timestamp": 1755383972157,
     "user_tz": 240,
     "elapsed": 7,
     "user": {
      "displayName": "Rishab Alagharu",
      "userId": "00430901930976372567"
     }
    },
    "outputId": "a024eb20-0732-4144-b89a-775d656c3440"
   },
   "execution_count": 27,
   "outputs": [
    {
     "output_type": "execute_result",
     "data": {
      "text/plain": [
       "x**2 + 3.14159265358979"
      ],
      "text/latex": "$\\displaystyle x^{2} + 3.14159265358979$"
     },
     "metadata": {},
     "execution_count": 27
    }
   ]
  }
 ]
}