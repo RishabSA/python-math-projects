{
 "nbformat": 4,
 "nbformat_minor": 0,
 "metadata": {
  "colab": {
   "provenance": [],
   "authorship_tag": "ABX9TyPhT4hliZkCOIl5MksALc/w"
  },
  "kernelspec": {
   "name": "python3",
   "display_name": "Python 3"
  },
  "language_info": {
   "name": "python"
  }
 },
 "cells": [
  {
   "cell_type": "code",
   "execution_count": 1,
   "metadata": {
    "id": "LRUhSrQvW2aC",
    "executionInfo": {
     "status": "ok",
     "timestamp": 1755389345514,
     "user_tz": 240,
     "elapsed": 3840,
     "user": {
      "displayName": "Rishab Alagharu",
      "userId": "00430901930976372567"
     }
    }
   },
   "outputs": [],
   "source": [
    "import sympy as sp"
   ]
  },
  {
   "cell_type": "code",
   "source": [
    "# Create a variable\n",
    "x = sp.Symbol(\"x\")\n",
    "x"
   ],
   "metadata": {
    "colab": {
     "base_uri": "https://localhost:8080/",
     "height": 39
    },
    "id": "0uy-GJXfW5oZ",
    "executionInfo": {
     "status": "ok",
     "timestamp": 1755389355050,
     "user_tz": 240,
     "elapsed": 9,
     "user": {
      "displayName": "Rishab Alagharu",
      "userId": "00430901930976372567"
     }
    },
    "outputId": "5346ff7f-b28f-4ae3-a2e4-b6093ebf01fc"
   },
   "execution_count": 2,
   "outputs": [
    {
     "output_type": "execute_result",
     "data": {
      "text/plain": [
       "x"
      ],
      "text/latex": "$\\displaystyle x$"
     },
     "metadata": {},
     "execution_count": 2
    }
   ]
  },
  {
   "cell_type": "markdown",
   "source": [
    "# Creating an Ordinary Differential Equation (ODE)"
   ],
   "metadata": {
    "id": "ImwCFusOW-9b"
   }
  },
  {
   "cell_type": "code",
   "source": [
    "# Create a function\n",
    "f = sp.Function(\"f\")(x)\n",
    "f"
   ],
   "metadata": {
    "colab": {
     "base_uri": "https://localhost:8080/",
     "height": 39
    },
    "id": "RPVAo1iHXAvN",
    "executionInfo": {
     "status": "ok",
     "timestamp": 1755389399688,
     "user_tz": 240,
     "elapsed": 6,
     "user": {
      "displayName": "Rishab Alagharu",
      "userId": "00430901930976372567"
     }
    },
    "outputId": "e90798dd-6d94-41d0-e44f-dc061160a1f6"
   },
   "execution_count": 3,
   "outputs": [
    {
     "output_type": "execute_result",
     "data": {
      "text/plain": [
       "f(x)"
      ],
      "text/latex": "$\\displaystyle f{\\left(x \\right)}$"
     },
     "metadata": {},
     "execution_count": 3
    }
   ]
  },
  {
   "cell_type": "code",
   "source": [
    "# Take the derivative of the function\n",
    "f.diff()"
   ],
   "metadata": {
    "colab": {
     "base_uri": "https://localhost:8080/",
     "height": 52
    },
    "id": "rkzbeOilXMDz",
    "executionInfo": {
     "status": "ok",
     "timestamp": 1755389420117,
     "user_tz": 240,
     "elapsed": 8,
     "user": {
      "displayName": "Rishab Alagharu",
      "userId": "00430901930976372567"
     }
    },
    "outputId": "58594215-b500-4ac7-a352-d0ee296d2bac"
   },
   "execution_count": 4,
   "outputs": [
    {
     "output_type": "execute_result",
     "data": {
      "text/plain": [
       "Derivative(f(x), x)"
      ],
      "text/latex": "$\\displaystyle \\frac{d}{d x} f{\\left(x \\right)}$"
     },
     "metadata": {},
     "execution_count": 4
    }
   ]
  },
  {
   "cell_type": "code",
   "source": [
    "# Take the integral of the function\n",
    "f.integrate()"
   ],
   "metadata": {
    "colab": {
     "base_uri": "https://localhost:8080/",
     "height": 55
    },
    "id": "XRvCzqJgXQXu",
    "executionInfo": {
     "status": "ok",
     "timestamp": 1755389433929,
     "user_tz": 240,
     "elapsed": 503,
     "user": {
      "displayName": "Rishab Alagharu",
      "userId": "00430901930976372567"
     }
    },
    "outputId": "e16c4399-7b18-4258-9056-59b01ad81d5a"
   },
   "execution_count": 5,
   "outputs": [
    {
     "output_type": "execute_result",
     "data": {
      "text/plain": [
       "Integral(f(x), x)"
      ],
      "text/latex": "$\\displaystyle \\int f{\\left(x \\right)}\\, dx$"
     },
     "metadata": {},
     "execution_count": 5
    }
   ]
  },
  {
   "cell_type": "code",
   "source": [
    "# Creating a differential equation\n",
    "diff_eq = sp.Eq(x * f.diff(x, 2) + f.diff(x), x**3)\n",
    "diff_eq"
   ],
   "metadata": {
    "colab": {
     "base_uri": "https://localhost:8080/",
     "height": 54
    },
    "id": "0eN4bGnBXSmk",
    "executionInfo": {
     "status": "ok",
     "timestamp": 1755389473868,
     "user_tz": 240,
     "elapsed": 8,
     "user": {
      "displayName": "Rishab Alagharu",
      "userId": "00430901930976372567"
     }
    },
    "outputId": "66854718-d28d-416d-d0fb-231e29233e45"
   },
   "execution_count": 6,
   "outputs": [
    {
     "output_type": "execute_result",
     "data": {
      "text/plain": [
       "Eq(x*Derivative(f(x), (x, 2)) + Derivative(f(x), x), x**3)"
      ],
      "text/latex": "$\\displaystyle x \\frac{d^{2}}{d x^{2}} f{\\left(x \\right)} + \\frac{d}{d x} f{\\left(x \\right)} = x^{3}$"
     },
     "metadata": {},
     "execution_count": 6
    }
   ]
  },
  {
   "cell_type": "code",
   "source": [
    "# Get the right-hand side (RHS)\n",
    "diff_eq.rhs"
   ],
   "metadata": {
    "colab": {
     "base_uri": "https://localhost:8080/",
     "height": 39
    },
    "id": "ISP2b5TjXcts",
    "executionInfo": {
     "status": "ok",
     "timestamp": 1755389498521,
     "user_tz": 240,
     "elapsed": 4,
     "user": {
      "displayName": "Rishab Alagharu",
      "userId": "00430901930976372567"
     }
    },
    "outputId": "fdf891ef-c263-4c94-a9f5-1b93833d7fb5"
   },
   "execution_count": 7,
   "outputs": [
    {
     "output_type": "execute_result",
     "data": {
      "text/plain": [
       "x**3"
      ],
      "text/latex": "$\\displaystyle x^{3}$"
     },
     "metadata": {},
     "execution_count": 7
    }
   ]
  },
  {
   "cell_type": "code",
   "source": [
    "# Get the left-hand side (LHS)\n",
    "diff_eq.lhs"
   ],
   "metadata": {
    "colab": {
     "base_uri": "https://localhost:8080/",
     "height": 54
    },
    "id": "woJ3yZHgXdo_",
    "executionInfo": {
     "status": "ok",
     "timestamp": 1755389504700,
     "user_tz": 240,
     "elapsed": 6,
     "user": {
      "displayName": "Rishab Alagharu",
      "userId": "00430901930976372567"
     }
    },
    "outputId": "aae8e451-3ae8-423f-f6fe-2d8e1a72432c"
   },
   "execution_count": 8,
   "outputs": [
    {
     "output_type": "execute_result",
     "data": {
      "text/plain": [
       "x*Derivative(f(x), (x, 2)) + Derivative(f(x), x)"
      ],
      "text/latex": "$\\displaystyle x \\frac{d^{2}}{d x^{2}} f{\\left(x \\right)} + \\frac{d}{d x} f{\\left(x \\right)}$"
     },
     "metadata": {},
     "execution_count": 8
    }
   ]
  },
  {
   "cell_type": "markdown",
   "source": [
    "# Solving the Ordinary Differential Equation (ODE)"
   ],
   "metadata": {
    "id": "dcIuyW7TXj3Y"
   }
  },
  {
   "cell_type": "code",
   "source": [
    "# Solve the ODE\n",
    "sol = sp.dsolve(diff_eq, f)\n",
    "sol"
   ],
   "metadata": {
    "colab": {
     "base_uri": "https://localhost:8080/",
     "height": 54
    },
    "id": "PDoKyHbxXl3D",
    "executionInfo": {
     "status": "ok",
     "timestamp": 1755389532807,
     "user_tz": 240,
     "elapsed": 568,
     "user": {
      "displayName": "Rishab Alagharu",
      "userId": "00430901930976372567"
     }
    },
    "outputId": "51375eb2-e8fb-454d-b393-e8cb69cb24ad"
   },
   "execution_count": 9,
   "outputs": [
    {
     "output_type": "execute_result",
     "data": {
      "text/plain": [
       "Eq(f(x), C1 + C2*log(x) + x**4/16)"
      ],
      "text/latex": "$\\displaystyle f{\\left(x \\right)} = C_{1} + C_{2} \\log{\\left(x \\right)} + \\frac{x^{4}}{16}$"
     },
     "metadata": {},
     "execution_count": 9
    }
   ]
  },
  {
   "cell_type": "code",
   "source": [
    "# Get the solution\n",
    "exp = sol.rhs\n",
    "exp"
   ],
   "metadata": {
    "colab": {
     "base_uri": "https://localhost:8080/",
     "height": 54
    },
    "id": "fzoSacH3Xsba",
    "executionInfo": {
     "status": "ok",
     "timestamp": 1755389549649,
     "user_tz": 240,
     "elapsed": 7,
     "user": {
      "displayName": "Rishab Alagharu",
      "userId": "00430901930976372567"
     }
    },
    "outputId": "b4d6a6f2-5dc4-4f2b-9ac9-e5ac1136956b"
   },
   "execution_count": 10,
   "outputs": [
    {
     "output_type": "execute_result",
     "data": {
      "text/plain": [
       "C1 + C2*log(x) + x**4/16"
      ],
      "text/latex": "$\\displaystyle C_{1} + C_{2} \\log{\\left(x \\right)} + \\frac{x^{4}}{16}$"
     },
     "metadata": {},
     "execution_count": 10
    }
   ]
  },
  {
   "cell_type": "code",
   "source": [
    "# Name the constants C1 and C2\n",
    "C1, _, C2 = tuple(exp.free_symbols)\n",
    "C1, C2"
   ],
   "metadata": {
    "colab": {
     "base_uri": "https://localhost:8080/"
    },
    "id": "P16ARUYsXu2v",
    "executionInfo": {
     "status": "ok",
     "timestamp": 1755389604865,
     "user_tz": 240,
     "elapsed": 7,
     "user": {
      "displayName": "Rishab Alagharu",
      "userId": "00430901930976372567"
     }
    },
    "outputId": "e983197e-aac2-4129-c5cb-b20544ca2b29"
   },
   "execution_count": 16,
   "outputs": [
    {
     "output_type": "execute_result",
     "data": {
      "text/plain": [
       "(C1, C2)"
      ]
     },
     "metadata": {},
     "execution_count": 16
    }
   ]
  },
  {
   "cell_type": "code",
   "source": [
    "# Setting the values C1 = 0 and C2 = 1\n",
    "exp.subs({C1: 0, C2: 1})"
   ],
   "metadata": {
    "colab": {
     "base_uri": "https://localhost:8080/",
     "height": 54
    },
    "id": "If1whpe-X9IF",
    "executionInfo": {
     "status": "ok",
     "timestamp": 1755389658242,
     "user_tz": 240,
     "elapsed": 11,
     "user": {
      "displayName": "Rishab Alagharu",
      "userId": "00430901930976372567"
     }
    },
    "outputId": "fcd795b4-87b9-4316-f650-ba80a20d8454"
   },
   "execution_count": 20,
   "outputs": [
    {
     "output_type": "execute_result",
     "data": {
      "text/plain": [
       "x**4/16 + log(x)"
      ],
      "text/latex": "$\\displaystyle \\frac{x^{4}}{16} + \\log{\\left(x \\right)}$"
     },
     "metadata": {},
     "execution_count": 20
    }
   ]
  },
  {
   "cell_type": "markdown",
   "source": [
    "# Giving Initial Conditions"
   ],
   "metadata": {
    "id": "jzHglirRYIi-"
   }
  },
  {
   "cell_type": "code",
   "source": [
    "# Create a dictionary with the initial conditions\n",
    "# f(1) = 0 and f'(2) = 1\n",
    "\n",
    "ics = {f.subs(x, 1): 0, f.diff().subs(x, 2): 1}\n",
    "ics"
   ],
   "metadata": {
    "colab": {
     "base_uri": "https://localhost:8080/"
    },
    "id": "mFDpbaSaYKIA",
    "executionInfo": {
     "status": "ok",
     "timestamp": 1755389719289,
     "user_tz": 240,
     "elapsed": 14,
     "user": {
      "displayName": "Rishab Alagharu",
      "userId": "00430901930976372567"
     }
    },
    "outputId": "f5692018-4341-4eb7-8c92-e6decfc58e44"
   },
   "execution_count": 21,
   "outputs": [
    {
     "output_type": "execute_result",
     "data": {
      "text/plain": [
       "{f(1): 0, Subs(Derivative(f(x), x), x, 2): 1}"
      ]
     },
     "metadata": {},
     "execution_count": 21
    }
   ]
  },
  {
   "cell_type": "code",
   "source": [
    "# Solve the intial value problem\n",
    "ivp = sp.dsolve(diff_eq, ics=ics).rhs\n",
    "ivp"
   ],
   "metadata": {
    "colab": {
     "base_uri": "https://localhost:8080/",
     "height": 54
    },
    "id": "HvmYl6-NYXa6",
    "executionInfo": {
     "status": "ok",
     "timestamp": 1755389752869,
     "user_tz": 240,
     "elapsed": 229,
     "user": {
      "displayName": "Rishab Alagharu",
      "userId": "00430901930976372567"
     }
    },
    "outputId": "9da6ea8f-6d58-44e9-a783-41f14f14afef"
   },
   "execution_count": 24,
   "outputs": [
    {
     "output_type": "execute_result",
     "data": {
      "text/plain": [
       "x**4/16 - 2*log(x) - 1/16"
      ],
      "text/latex": "$\\displaystyle \\frac{x^{4}}{16} - 2 \\log{\\left(x \\right)} - \\frac{1}{16}$"
     },
     "metadata": {},
     "execution_count": 24
    }
   ]
  },
  {
   "cell_type": "code",
   "source": [
    "# Check the first initial condition\n",
    "ivp.subs(x, 1)  # Should output 0"
   ],
   "metadata": {
    "colab": {
     "base_uri": "https://localhost:8080/",
     "height": 37
    },
    "id": "4J0IHn1DYfkd",
    "executionInfo": {
     "status": "ok",
     "timestamp": 1755389767682,
     "user_tz": 240,
     "elapsed": 9,
     "user": {
      "displayName": "Rishab Alagharu",
      "userId": "00430901930976372567"
     }
    },
    "outputId": "8edfc37e-f0d1-4497-a972-bf961b093169"
   },
   "execution_count": 25,
   "outputs": [
    {
     "output_type": "execute_result",
     "data": {
      "text/plain": [
       "0"
      ],
      "text/latex": "$\\displaystyle 0$"
     },
     "metadata": {},
     "execution_count": 25
    }
   ]
  },
  {
   "cell_type": "code",
   "source": [
    "# Check the second initial condition\n",
    "ivp.diff().subs(x, 2)  # Should output 1"
   ],
   "metadata": {
    "colab": {
     "base_uri": "https://localhost:8080/",
     "height": 37
    },
    "id": "yfK4sxJeYkwY",
    "executionInfo": {
     "status": "ok",
     "timestamp": 1755389781981,
     "user_tz": 240,
     "elapsed": 5,
     "user": {
      "displayName": "Rishab Alagharu",
      "userId": "00430901930976372567"
     }
    },
    "outputId": "1959e42f-0c43-4ca5-9d28-ecaf42d61636"
   },
   "execution_count": 26,
   "outputs": [
    {
     "output_type": "execute_result",
     "data": {
      "text/plain": [
       "1"
      ],
      "text/latex": "$\\displaystyle 1$"
     },
     "metadata": {},
     "execution_count": 26
    }
   ]
  },
  {
   "cell_type": "code",
   "source": [
    "# Check that the solution satisfies the ODE\n",
    "(x * ivp.diff(x, 2) + ivp.diff()).simplify()  # Should output x^3"
   ],
   "metadata": {
    "colab": {
     "base_uri": "https://localhost:8080/",
     "height": 39
    },
    "id": "UjCZwLoZYoao",
    "executionInfo": {
     "status": "ok",
     "timestamp": 1755389835899,
     "user_tz": 240,
     "elapsed": 27,
     "user": {
      "displayName": "Rishab Alagharu",
      "userId": "00430901930976372567"
     }
    },
    "outputId": "c59ecdc7-3a1f-430e-bda8-b5d2ce61ce52"
   },
   "execution_count": 29,
   "outputs": [
    {
     "output_type": "execute_result",
     "data": {
      "text/plain": [
       "x**3"
      ],
      "text/latex": "$\\displaystyle x^{3}$"
     },
     "metadata": {},
     "execution_count": 29
    }
   ]
  }
 ]
}