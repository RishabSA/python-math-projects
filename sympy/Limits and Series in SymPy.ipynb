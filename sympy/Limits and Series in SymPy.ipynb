{
 "nbformat": 4,
 "nbformat_minor": 0,
 "metadata": {
  "colab": {
   "provenance": [],
   "authorship_tag": "ABX9TyPQSUGUmZOYpdWF+YborXRS"
  },
  "kernelspec": {
   "name": "python3",
   "display_name": "Python 3"
  },
  "language_info": {
   "name": "python"
  }
 },
 "cells": [
  {
   "cell_type": "code",
   "execution_count": 1,
   "metadata": {
    "id": "tJTI4gvqITLe",
    "executionInfo": {
     "status": "ok",
     "timestamp": 1755385527740,
     "user_tz": 240,
     "elapsed": 4130,
     "user": {
      "displayName": "Rishab Alagharu",
      "userId": "00430901930976372567"
     }
    }
   },
   "outputs": [],
   "source": [
    "import sympy as sp"
   ]
  },
  {
   "cell_type": "code",
   "source": [
    "# Create a symbol\n",
    "x = sp.Symbol(\"x\")\n",
    "x"
   ],
   "metadata": {
    "colab": {
     "base_uri": "https://localhost:8080/",
     "height": 39
    },
    "id": "PXt9XsEHIVby",
    "executionInfo": {
     "status": "ok",
     "timestamp": 1755388920705,
     "user_tz": 240,
     "elapsed": 22,
     "user": {
      "displayName": "Rishab Alagharu",
      "userId": "00430901930976372567"
     }
    },
    "outputId": "b2d2f991-e35c-423d-e5d0-729b35860f5c"
   },
   "execution_count": 2,
   "outputs": [
    {
     "output_type": "execute_result",
     "data": {
      "text/plain": [
       "x"
      ],
      "text/latex": "$\\displaystyle x$"
     },
     "metadata": {},
     "execution_count": 2
    }
   ]
  },
  {
   "cell_type": "code",
   "source": [
    "# Create a function\n",
    "expr = x**2\n",
    "expr"
   ],
   "metadata": {
    "colab": {
     "base_uri": "https://localhost:8080/",
     "height": 39
    },
    "id": "_La_L57WVUa2",
    "executionInfo": {
     "status": "ok",
     "timestamp": 1755388929985,
     "user_tz": 240,
     "elapsed": 6,
     "user": {
      "displayName": "Rishab Alagharu",
      "userId": "00430901930976372567"
     }
    },
    "outputId": "3ad5964a-a650-4f7b-ac03-bb92b352639e"
   },
   "execution_count": 3,
   "outputs": [
    {
     "output_type": "execute_result",
     "data": {
      "text/plain": [
       "x**2"
      ],
      "text/latex": "$\\displaystyle x^{2}$"
     },
     "metadata": {},
     "execution_count": 3
    }
   ]
  },
  {
   "cell_type": "code",
   "source": [
    "# Take the limit\n",
    "sp.limit(expr, x, 1)"
   ],
   "metadata": {
    "colab": {
     "base_uri": "https://localhost:8080/",
     "height": 37
    },
    "id": "7EitWn81VWrJ",
    "executionInfo": {
     "status": "ok",
     "timestamp": 1755388945532,
     "user_tz": 240,
     "elapsed": 252,
     "user": {
      "displayName": "Rishab Alagharu",
      "userId": "00430901930976372567"
     }
    },
    "outputId": "fb5109cd-6070-4ceb-8b2f-b7c739ca4e9a"
   },
   "execution_count": 4,
   "outputs": [
    {
     "output_type": "execute_result",
     "data": {
      "text/plain": [
       "1"
      ],
      "text/latex": "$\\displaystyle 1$"
     },
     "metadata": {},
     "execution_count": 4
    }
   ]
  },
  {
   "cell_type": "code",
   "source": [
    "# Could have just subsituted\n",
    "expr.subs(x, 1)"
   ],
   "metadata": {
    "colab": {
     "base_uri": "https://localhost:8080/",
     "height": 37
    },
    "id": "wrP8Tc40VbT0",
    "executionInfo": {
     "status": "ok",
     "timestamp": 1755388957103,
     "user_tz": 240,
     "elapsed": 6,
     "user": {
      "displayName": "Rishab Alagharu",
      "userId": "00430901930976372567"
     }
    },
    "outputId": "416e900f-2527-4902-a0bd-28b5a19b00a1"
   },
   "execution_count": 5,
   "outputs": [
    {
     "output_type": "execute_result",
     "data": {
      "text/plain": [
       "1"
      ],
      "text/latex": "$\\displaystyle 1$"
     },
     "metadata": {},
     "execution_count": 5
    }
   ]
  },
  {
   "cell_type": "markdown",
   "source": [
    "# Evaluating the Limit at Infinity"
   ],
   "metadata": {
    "id": "kHrtaKSnVd4X"
   }
  },
  {
   "cell_type": "code",
   "source": [
    "# Rapidly decaying function\n",
    "exponential = x / sp.exp(x)\n",
    "exponential"
   ],
   "metadata": {
    "colab": {
     "base_uri": "https://localhost:8080/",
     "height": 39
    },
    "id": "mdnbC80JVe4-",
    "executionInfo": {
     "status": "ok",
     "timestamp": 1755388975305,
     "user_tz": 240,
     "elapsed": 7,
     "user": {
      "displayName": "Rishab Alagharu",
      "userId": "00430901930976372567"
     }
    },
    "outputId": "c09b3a4f-9549-4b62-ba8d-c69f252ffed6"
   },
   "execution_count": 6,
   "outputs": [
    {
     "output_type": "execute_result",
     "data": {
      "text/plain": [
       "x*exp(-x)"
      ],
      "text/latex": "$\\displaystyle x e^{- x}$"
     },
     "metadata": {},
     "execution_count": 6
    }
   ]
  },
  {
   "cell_type": "code",
   "source": [
    "# Take the limit\n",
    "sp.limit(exponential, x, sp.oo)"
   ],
   "metadata": {
    "colab": {
     "base_uri": "https://localhost:8080/",
     "height": 37
    },
    "id": "Rc4PqqRoVlVP",
    "executionInfo": {
     "status": "ok",
     "timestamp": 1755389004319,
     "user_tz": 240,
     "elapsed": 52,
     "user": {
      "displayName": "Rishab Alagharu",
      "userId": "00430901930976372567"
     }
    },
    "outputId": "e3b2bbaa-adda-4b40-8501-1e44cacf179a"
   },
   "execution_count": 7,
   "outputs": [
    {
     "output_type": "execute_result",
     "data": {
      "text/plain": [
       "0"
      ],
      "text/latex": "$\\displaystyle 0$"
     },
     "metadata": {},
     "execution_count": 7
    }
   ]
  },
  {
   "cell_type": "code",
   "source": [
    "# Substitution does not work here\n",
    "exponential.subs(x, sp.oo)"
   ],
   "metadata": {
    "colab": {
     "base_uri": "https://localhost:8080/",
     "height": 37
    },
    "id": "648XH1jrVpdD",
    "executionInfo": {
     "status": "ok",
     "timestamp": 1755389019415,
     "user_tz": 240,
     "elapsed": 12,
     "user": {
      "displayName": "Rishab Alagharu",
      "userId": "00430901930976372567"
     }
    },
    "outputId": "ee1adca0-5fdd-4f55-d74f-a50a035e33f9"
   },
   "execution_count": 8,
   "outputs": [
    {
     "output_type": "execute_result",
     "data": {
      "text/plain": [
       "nan"
      ],
      "text/latex": "$\\displaystyle \\text{NaN}$"
     },
     "metadata": {},
     "execution_count": 8
    }
   ]
  },
  {
   "cell_type": "code",
   "source": [
    "# By default, Sympy takes limits from the right"
   ],
   "metadata": {
    "id": "WkA-h8zYVu6-",
    "executionInfo": {
     "status": "ok",
     "timestamp": 1755389044371,
     "user_tz": 240,
     "elapsed": 6,
     "user": {
      "displayName": "Rishab Alagharu",
      "userId": "00430901930976372567"
     }
    }
   },
   "execution_count": 10,
   "outputs": []
  },
  {
   "cell_type": "code",
   "source": [
    "# Define a simple expression\n",
    "expr = 1 / x\n",
    "expr"
   ],
   "metadata": {
    "colab": {
     "base_uri": "https://localhost:8080/",
     "height": 51
    },
    "id": "KRDxthutVwbH",
    "executionInfo": {
     "status": "ok",
     "timestamp": 1755389044798,
     "user_tz": 240,
     "elapsed": 9,
     "user": {
      "displayName": "Rishab Alagharu",
      "userId": "00430901930976372567"
     }
    },
    "outputId": "0b23b354-22ab-42c6-bed3-401b12a5872b"
   },
   "execution_count": 11,
   "outputs": [
    {
     "output_type": "execute_result",
     "data": {
      "text/plain": [
       "1/x"
      ],
      "text/latex": "$\\displaystyle \\frac{1}{x}$"
     },
     "metadata": {},
     "execution_count": 11
    }
   ]
  },
  {
   "cell_type": "code",
   "source": [
    "# The limit is taken from the right by default\n",
    "sp.limit(expr, x, 0)"
   ],
   "metadata": {
    "colab": {
     "base_uri": "https://localhost:8080/",
     "height": 37
    },
    "id": "0riZtQ1TVzAB",
    "executionInfo": {
     "status": "ok",
     "timestamp": 1755389063024,
     "user_tz": 240,
     "elapsed": 6,
     "user": {
      "displayName": "Rishab Alagharu",
      "userId": "00430901930976372567"
     }
    },
    "outputId": "9f9ff16a-4762-41e8-8bdd-d89da812e724"
   },
   "execution_count": 12,
   "outputs": [
    {
     "output_type": "execute_result",
     "data": {
      "text/plain": [
       "oo"
      ],
      "text/latex": "$\\displaystyle \\infty$"
     },
     "metadata": {},
     "execution_count": 12
    }
   ]
  },
  {
   "cell_type": "code",
   "source": [
    "# Get the limit from the left\n",
    "sp.limit(expr, x, 0, \"-\")"
   ],
   "metadata": {
    "colab": {
     "base_uri": "https://localhost:8080/",
     "height": 37
    },
    "id": "xVTgyTfSV4CK",
    "executionInfo": {
     "status": "ok",
     "timestamp": 1755389077092,
     "user_tz": 240,
     "elapsed": 7,
     "user": {
      "displayName": "Rishab Alagharu",
      "userId": "00430901930976372567"
     }
    },
    "outputId": "93c9576c-30f1-4502-b288-85cc8afa4586"
   },
   "execution_count": 13,
   "outputs": [
    {
     "output_type": "execute_result",
     "data": {
      "text/plain": [
       "-oo"
      ],
      "text/latex": "$\\displaystyle -\\infty$"
     },
     "metadata": {},
     "execution_count": 13
    }
   ]
  },
  {
   "cell_type": "code",
   "source": [
    "# Get both the right and left limits\n",
    "sp.limit(expr, x, 0, \"+-\")"
   ],
   "metadata": {
    "colab": {
     "base_uri": "https://localhost:8080/",
     "height": 37
    },
    "id": "_CBXzhpAV8Na",
    "executionInfo": {
     "status": "ok",
     "timestamp": 1755389096312,
     "user_tz": 240,
     "elapsed": 10,
     "user": {
      "displayName": "Rishab Alagharu",
      "userId": "00430901930976372567"
     }
    },
    "outputId": "d6eddac2-b5ee-4f23-f18a-33cc35a1ea93"
   },
   "execution_count": 14,
   "outputs": [
    {
     "output_type": "execute_result",
     "data": {
      "text/plain": [
       "zoo"
      ],
      "text/latex": "$\\displaystyle \\tilde{\\infty}$"
     },
     "metadata": {},
     "execution_count": 14
    }
   ]
  },
  {
   "cell_type": "markdown",
   "source": [
    "# Series"
   ],
   "metadata": {
    "id": "alSWVZsfV_04"
   }
  },
  {
   "cell_type": "code",
   "source": [
    "# Find the Taylor Series of sin(x) at x = pi/2\n",
    "sp.series(sp.sin(x), x, sp.pi / 2)"
   ],
   "metadata": {
    "colab": {
     "base_uri": "https://localhost:8080/",
     "height": 63
    },
    "id": "9EbXgSRBWAMs",
    "executionInfo": {
     "status": "ok",
     "timestamp": 1755389128143,
     "user_tz": 240,
     "elapsed": 52,
     "user": {
      "displayName": "Rishab Alagharu",
      "userId": "00430901930976372567"
     }
    },
    "outputId": "cee2c3de-da8d-4284-c62b-e390849a8c42"
   },
   "execution_count": 15,
   "outputs": [
    {
     "output_type": "execute_result",
     "data": {
      "text/plain": [
       "1 - (x - pi/2)**2/2 + (x - pi/2)**4/24 + O((x - pi/2)**6, (x, pi/2))"
      ],
      "text/latex": "$\\displaystyle 1 - \\frac{\\left(x - \\frac{\\pi}{2}\\right)^{2}}{2} + \\frac{\\left(x - \\frac{\\pi}{2}\\right)^{4}}{24} + O\\left(\\left(x - \\frac{\\pi}{2}\\right)^{6}; x\\rightarrow \\frac{\\pi}{2}\\right)$"
     },
     "metadata": {},
     "execution_count": 15
    }
   ]
  },
  {
   "cell_type": "code",
   "source": [
    "# A simple expression\n",
    "expr = sp.exp(sp.sin(x))\n",
    "expr"
   ],
   "metadata": {
    "colab": {
     "base_uri": "https://localhost:8080/",
     "height": 39
    },
    "id": "yl_pwV-mWLD-",
    "executionInfo": {
     "status": "ok",
     "timestamp": 1755389157593,
     "user_tz": 240,
     "elapsed": 16,
     "user": {
      "displayName": "Rishab Alagharu",
      "userId": "00430901930976372567"
     }
    },
    "outputId": "265bdd06-617f-4c09-97f0-f1c965695fb5"
   },
   "execution_count": 16,
   "outputs": [
    {
     "output_type": "execute_result",
     "data": {
      "text/plain": [
       "exp(sin(x))"
      ],
      "text/latex": "$\\displaystyle e^{\\sin{\\left(x \\right)}}$"
     },
     "metadata": {},
     "execution_count": 16
    }
   ]
  },
  {
   "cell_type": "code",
   "source": [
    "# Get more terms\n",
    "sp.series(expr, x, 0, n=8)  # Produces the first 8 terms"
   ],
   "metadata": {
    "colab": {
     "base_uri": "https://localhost:8080/",
     "height": 54
    },
    "id": "qtH4KnnrWO1O",
    "executionInfo": {
     "status": "ok",
     "timestamp": 1755389175743,
     "user_tz": 240,
     "elapsed": 561,
     "user": {
      "displayName": "Rishab Alagharu",
      "userId": "00430901930976372567"
     }
    },
    "outputId": "d4d94208-eaf5-42e2-a2c8-9e5fb9a997f8"
   },
   "execution_count": 18,
   "outputs": [
    {
     "output_type": "execute_result",
     "data": {
      "text/plain": [
       "1 + x + x**2/2 - x**4/8 - x**5/15 - x**6/240 + x**7/90 + O(x**8)"
      ],
      "text/latex": "$\\displaystyle 1 + x + \\frac{x^{2}}{2} - \\frac{x^{4}}{8} - \\frac{x^{5}}{15} - \\frac{x^{6}}{240} + \\frac{x^{7}}{90} + O\\left(x^{8}\\right)$"
     },
     "metadata": {},
     "execution_count": 18
    }
   ]
  },
  {
   "cell_type": "code",
   "source": [
    "# Perform arithmetic with Taylor expressions\n",
    "(sp.series(expr, x, 0, n=8) * sp.series(sp.sin(x), x, 0, n=6)).expand()"
   ],
   "metadata": {
    "colab": {
     "base_uri": "https://localhost:8080/",
     "height": 54
    },
    "id": "0CvEs14UWVbm",
    "executionInfo": {
     "status": "ok",
     "timestamp": 1755389223591,
     "user_tz": 240,
     "elapsed": 477,
     "user": {
      "displayName": "Rishab Alagharu",
      "userId": "00430901930976372567"
     }
    },
    "outputId": "8fe6eda9-a5a2-44f6-ebb6-05546f262cf0"
   },
   "execution_count": 20,
   "outputs": [
    {
     "output_type": "execute_result",
     "data": {
      "text/plain": [
       "x + x**2 + x**3/3 - x**4/6 - x**5/5 + O(x**6)"
      ],
      "text/latex": "$\\displaystyle x + x^{2} + \\frac{x^{3}}{3} - \\frac{x^{4}}{6} - \\frac{x^{5}}{5} + O\\left(x^{6}\\right)$"
     },
     "metadata": {},
     "execution_count": 20
    }
   ]
  },
  {
   "cell_type": "code",
   "source": [
    "# Differntiate the Taylor series\n",
    "sp.diff(sp.series(expr, x, 0, n=8))"
   ],
   "metadata": {
    "colab": {
     "base_uri": "https://localhost:8080/",
     "height": 54
    },
    "id": "g490-spWWe4n",
    "executionInfo": {
     "status": "ok",
     "timestamp": 1755389260817,
     "user_tz": 240,
     "elapsed": 286,
     "user": {
      "displayName": "Rishab Alagharu",
      "userId": "00430901930976372567"
     }
    },
    "outputId": "2f1d7439-501f-4a12-a4c1-da478c7e7a3d"
   },
   "execution_count": 23,
   "outputs": [
    {
     "output_type": "execute_result",
     "data": {
      "text/plain": [
       "1 + x - x**3/2 - x**4/3 - x**5/40 + 7*x**6/90 + O(x**7)"
      ],
      "text/latex": "$\\displaystyle 1 + x - \\frac{x^{3}}{2} - \\frac{x^{4}}{3} - \\frac{x^{5}}{40} + \\frac{7 x^{6}}{90} + O\\left(x^{7}\\right)$"
     },
     "metadata": {},
     "execution_count": 23
    }
   ]
  },
  {
   "cell_type": "code",
   "source": [
    "# Integrate the Taylor series\n",
    "sp.integrate(sp.series(expr, x, 0, n=8))"
   ],
   "metadata": {
    "colab": {
     "base_uri": "https://localhost:8080/",
     "height": 54
    },
    "id": "ThWgKIc-WmIc",
    "executionInfo": {
     "status": "ok",
     "timestamp": 1755389260229,
     "user_tz": 240,
     "elapsed": 495,
     "user": {
      "displayName": "Rishab Alagharu",
      "userId": "00430901930976372567"
     }
    },
    "outputId": "aa93f81a-e6ec-4062-e3d5-787c05de39e3"
   },
   "execution_count": 22,
   "outputs": [
    {
     "output_type": "execute_result",
     "data": {
      "text/plain": [
       "x + x**2/2 + x**3/6 - x**5/40 - x**6/90 - x**7/1680 + x**8/720 + O(x**9)"
      ],
      "text/latex": "$\\displaystyle x + \\frac{x^{2}}{2} + \\frac{x^{3}}{6} - \\frac{x^{5}}{40} - \\frac{x^{6}}{90} - \\frac{x^{7}}{1680} + \\frac{x^{8}}{720} + O\\left(x^{9}\\right)$"
     },
     "metadata": {},
     "execution_count": 22
    }
   ]
  },
  {
   "cell_type": "code",
   "source": [
    "# Remove the \"Big O\" from the expression\n",
    "sp.series(expr, x, 0, n=8).removeO()"
   ],
   "metadata": {
    "colab": {
     "base_uri": "https://localhost:8080/",
     "height": 54
    },
    "id": "QHA4JxiKWqeC",
    "executionInfo": {
     "status": "ok",
     "timestamp": 1755389291764,
     "user_tz": 240,
     "elapsed": 391,
     "user": {
      "displayName": "Rishab Alagharu",
      "userId": "00430901930976372567"
     }
    },
    "outputId": "75344606-94c6-4862-b2b2-55322d53b4fe"
   },
   "execution_count": 24,
   "outputs": [
    {
     "output_type": "execute_result",
     "data": {
      "text/plain": [
       "x**7/90 - x**6/240 - x**5/15 - x**4/8 + x**2/2 + x + 1"
      ],
      "text/latex": "$\\displaystyle \\frac{x^{7}}{90} - \\frac{x^{6}}{240} - \\frac{x^{5}}{15} - \\frac{x^{4}}{8} + \\frac{x^{2}}{2} + x + 1$"
     },
     "metadata": {},
     "execution_count": 24
    }
   ]
  }
 ]
}