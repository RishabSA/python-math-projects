{
 "nbformat": 4,
 "nbformat_minor": 0,
 "metadata": {
  "colab": {
   "provenance": [],
   "authorship_tag": "ABX9TyMgpZTlX0CkMRPdgt7/TDBK"
  },
  "kernelspec": {
   "name": "python3",
   "display_name": "Python 3"
  },
  "language_info": {
   "name": "python"
  }
 },
 "cells": [
  {
   "cell_type": "code",
   "execution_count": 2,
   "metadata": {
    "id": "i7Cg0Sr1t8s5",
    "executionInfo": {
     "status": "ok",
     "timestamp": 1755378624956,
     "user_tz": 240,
     "elapsed": 2213,
     "user": {
      "displayName": "Rishab Alagharu",
      "userId": "00430901930976372567"
     }
    }
   },
   "outputs": [],
   "source": [
    "import sympy as sp"
   ]
  },
  {
   "cell_type": "code",
   "source": [
    "x, y, z = sp.symbols(\"x, y, z\")\n",
    "x, y, z"
   ],
   "metadata": {
    "colab": {
     "base_uri": "https://localhost:8080/"
    },
    "id": "1rYNymU8t_Lf",
    "executionInfo": {
     "status": "ok",
     "timestamp": 1755378639642,
     "user_tz": 240,
     "elapsed": 11,
     "user": {
      "displayName": "Rishab Alagharu",
      "userId": "00430901930976372567"
     }
    },
    "outputId": "69ab3b05-420a-4dbc-fae2-9a64af3539e1"
   },
   "execution_count": 3,
   "outputs": [
    {
     "output_type": "execute_result",
     "data": {
      "text/plain": [
       "(x, y, z)"
      ]
     },
     "metadata": {},
     "execution_count": 3
    }
   ]
  },
  {
   "cell_type": "markdown",
   "source": [
    "# Defining Equations"
   ],
   "metadata": {
    "id": "wUZ2Sq_IuIDf"
   }
  },
  {
   "cell_type": "code",
   "source": [
    "# Define an equation\n",
    "eq = sp.Eq(x**2, 5)\n",
    "eq"
   ],
   "metadata": {
    "colab": {
     "base_uri": "https://localhost:8080/",
     "height": 39
    },
    "id": "wXWZu8z3uGw-",
    "executionInfo": {
     "status": "ok",
     "timestamp": 1755378688934,
     "user_tz": 240,
     "elapsed": 10,
     "user": {
      "displayName": "Rishab Alagharu",
      "userId": "00430901930976372567"
     }
    },
    "outputId": "91b0caef-c177-4f63-f6fd-f70d504417c5"
   },
   "execution_count": 6,
   "outputs": [
    {
     "output_type": "execute_result",
     "data": {
      "text/plain": [
       "Eq(x**2, 5)"
      ],
      "text/latex": "$\\displaystyle x^{2} = 5$"
     },
     "metadata": {},
     "execution_count": 6
    }
   ]
  },
  {
   "cell_type": "markdown",
   "source": [
    "# Solving Equations"
   ],
   "metadata": {
    "id": "xPOzXTwVuUmU"
   }
  },
  {
   "cell_type": "code",
   "source": [
    "# Solving the equation for x\n",
    "sp.solveset(eq, x)  # Finite set of solutions"
   ],
   "metadata": {
    "colab": {
     "base_uri": "https://localhost:8080/",
     "height": 47
    },
    "id": "6rL5xUpGuOfy",
    "executionInfo": {
     "status": "ok",
     "timestamp": 1755378884474,
     "user_tz": 240,
     "elapsed": 14,
     "user": {
      "displayName": "Rishab Alagharu",
      "userId": "00430901930976372567"
     }
    },
    "outputId": "17e68edb-3e5b-4ed8-909f-e00f237749fe"
   },
   "execution_count": 14,
   "outputs": [
    {
     "output_type": "execute_result",
     "data": {
      "text/plain": [
       "{-sqrt(5), sqrt(5)}"
      ],
      "text/latex": "$\\displaystyle \\left\\{- \\sqrt{5}, \\sqrt{5}\\right\\}$"
     },
     "metadata": {},
     "execution_count": 14
    }
   ]
  },
  {
   "cell_type": "code",
   "source": [
    "# Extract the first solution\n",
    "list(sp.solveset(eq, x))[0]"
   ],
   "metadata": {
    "colab": {
     "base_uri": "https://localhost:8080/",
     "height": 38
    },
    "id": "Y7N826xSucVg",
    "executionInfo": {
     "status": "ok",
     "timestamp": 1755378771238,
     "user_tz": 240,
     "elapsed": 12,
     "user": {
      "displayName": "Rishab Alagharu",
      "userId": "00430901930976372567"
     }
    },
    "outputId": "0f482e52-f9c3-4fc0-eb81-ca127219f2f3"
   },
   "execution_count": 10,
   "outputs": [
    {
     "output_type": "execute_result",
     "data": {
      "text/plain": [
       "sqrt(5)"
      ],
      "text/latex": "$\\displaystyle \\sqrt{5}$"
     },
     "metadata": {},
     "execution_count": 10
    }
   ]
  },
  {
   "cell_type": "code",
   "source": [
    "# Rewrite the equation\n",
    "sp.solveset(x**2 - 5, x)"
   ],
   "metadata": {
    "colab": {
     "base_uri": "https://localhost:8080/",
     "height": 47
    },
    "id": "oOHQBuFXuneN",
    "executionInfo": {
     "status": "ok",
     "timestamp": 1755378798315,
     "user_tz": 240,
     "elapsed": 18,
     "user": {
      "displayName": "Rishab Alagharu",
      "userId": "00430901930976372567"
     }
    },
    "outputId": "90cf314e-7c55-4804-a45c-e5d7f0129eae"
   },
   "execution_count": 11,
   "outputs": [
    {
     "output_type": "execute_result",
     "data": {
      "text/plain": [
       "{-sqrt(5), sqrt(5)}"
      ],
      "text/latex": "$\\displaystyle \\left\\{- \\sqrt{5}, \\sqrt{5}\\right\\}$"
     },
     "metadata": {},
     "execution_count": 11
    }
   ]
  },
  {
   "cell_type": "code",
   "source": [
    "# Define an equation\n",
    "eq2 = sp.Eq(sp.cos(x) - sp.sin(x), 0)\n",
    "eq2"
   ],
   "metadata": {
    "colab": {
     "base_uri": "https://localhost:8080/",
     "height": 39
    },
    "id": "hxYnY7zBuvfH",
    "executionInfo": {
     "status": "ok",
     "timestamp": 1755378833630,
     "user_tz": 240,
     "elapsed": 12,
     "user": {
      "displayName": "Rishab Alagharu",
      "userId": "00430901930976372567"
     }
    },
    "outputId": "39da9c98-aca1-4275-85ca-0c115d5355f5"
   },
   "execution_count": 12,
   "outputs": [
    {
     "output_type": "execute_result",
     "data": {
      "text/plain": [
       "Eq(-sin(x) + cos(x), 0)"
      ],
      "text/latex": "$\\displaystyle - \\sin{\\left(x \\right)} + \\cos{\\left(x \\right)} = 0$"
     },
     "metadata": {},
     "execution_count": 12
    }
   ]
  },
  {
   "cell_type": "code",
   "source": [
    "# Solve the equation\n",
    "sp.solveset(eq2)  # Union of 2 infinite sets"
   ],
   "metadata": {
    "colab": {
     "base_uri": "https://localhost:8080/",
     "height": 58
    },
    "id": "avQ7R0fbu335",
    "executionInfo": {
     "status": "ok",
     "timestamp": 1755378891125,
     "user_tz": 240,
     "elapsed": 43,
     "user": {
      "displayName": "Rishab Alagharu",
      "userId": "00430901930976372567"
     }
    },
    "outputId": "3da50e2d-e562-4941-bf14-35b1abb35439"
   },
   "execution_count": 15,
   "outputs": [
    {
     "output_type": "execute_result",
     "data": {
      "text/plain": [
       "Union(ImageSet(Lambda(_n, 2*_n*pi + 5*pi/4), Integers), ImageSet(Lambda(_n, 2*_n*pi + pi/4), Integers))"
      ],
      "text/latex": "$\\displaystyle \\left\\{2 n \\pi + \\frac{5 \\pi}{4}\\; \\middle|\\; n \\in \\mathbb{Z}\\right\\} \\cup \\left\\{2 n \\pi + \\frac{\\pi}{4}\\; \\middle|\\; n \\in \\mathbb{Z}\\right\\}$"
     },
     "metadata": {},
     "execution_count": 15
    }
   ]
  },
  {
   "cell_type": "code",
   "source": [
    "# Define a non-solveable equation\n",
    "eq3 = sp.Eq(sp.cos(x), x)\n",
    "eq3"
   ],
   "metadata": {
    "colab": {
     "base_uri": "https://localhost:8080/",
     "height": 39
    },
    "id": "HkkH5ckNvDtP",
    "executionInfo": {
     "status": "ok",
     "timestamp": 1755378920339,
     "user_tz": 240,
     "elapsed": 9,
     "user": {
      "displayName": "Rishab Alagharu",
      "userId": "00430901930976372567"
     }
    },
    "outputId": "286c1ce3-bbc4-4f7c-c3c5-aaad9f13ab6f"
   },
   "execution_count": 17,
   "outputs": [
    {
     "output_type": "execute_result",
     "data": {
      "text/plain": [
       "Eq(cos(x), x)"
      ],
      "text/latex": "$\\displaystyle \\cos{\\left(x \\right)} = x$"
     },
     "metadata": {},
     "execution_count": 17
    }
   ]
  },
  {
   "cell_type": "code",
   "source": [
    "# Try to solve the equation\n",
    "sp.solveset(eq3)"
   ],
   "metadata": {
    "colab": {
     "base_uri": "https://localhost:8080/",
     "height": 39
    },
    "id": "EXKS-GlSvIbL",
    "executionInfo": {
     "status": "ok",
     "timestamp": 1755378928432,
     "user_tz": 240,
     "elapsed": 36,
     "user": {
      "displayName": "Rishab Alagharu",
      "userId": "00430901930976372567"
     }
    },
    "outputId": "6a3cbca1-6d83-43e1-b6ce-4d0f2d4f6540"
   },
   "execution_count": 18,
   "outputs": [
    {
     "output_type": "execute_result",
     "data": {
      "text/plain": [
       "ConditionSet(x, Eq(-x + cos(x), 0), Complexes)"
      ],
      "text/latex": "$\\displaystyle \\left\\{x\\; \\middle|\\; x \\in \\mathbb{C} \\wedge - x + \\cos{\\left(x \\right)} = 0 \\right\\}$"
     },
     "metadata": {},
     "execution_count": 18
    }
   ]
  },
  {
   "cell_type": "markdown",
   "source": [
    "# Solving Systems of Linear Equations"
   ],
   "metadata": {
    "id": "5VXq0ltrvXqh"
   }
  },
  {
   "cell_type": "code",
   "source": [
    "# Defining the first equation\n",
    "eq_lin1 = sp.Eq(x, 3 * y + z)\n",
    "eq_lin1"
   ],
   "metadata": {
    "colab": {
     "base_uri": "https://localhost:8080/",
     "height": 39
    },
    "id": "sxfDGS9ovZSw",
    "executionInfo": {
     "status": "ok",
     "timestamp": 1755379011074,
     "user_tz": 240,
     "elapsed": 21,
     "user": {
      "displayName": "Rishab Alagharu",
      "userId": "00430901930976372567"
     }
    },
    "outputId": "e7b4b1b7-5caf-4a64-865f-843c5ea0c85b"
   },
   "execution_count": 19,
   "outputs": [
    {
     "output_type": "execute_result",
     "data": {
      "text/plain": [
       "Eq(x, 3*y + z)"
      ],
      "text/latex": "$\\displaystyle x = 3 y + z$"
     },
     "metadata": {},
     "execution_count": 19
    }
   ]
  },
  {
   "cell_type": "code",
   "source": [
    "# Defining the second equation\n",
    "eq_lin2 = sp.Eq(5 * x - 3 * z, y)\n",
    "eq_lin2"
   ],
   "metadata": {
    "colab": {
     "base_uri": "https://localhost:8080/",
     "height": 39
    },
    "id": "we2IGapyvhDS",
    "executionInfo": {
     "status": "ok",
     "timestamp": 1755379027603,
     "user_tz": 240,
     "elapsed": 14,
     "user": {
      "displayName": "Rishab Alagharu",
      "userId": "00430901930976372567"
     }
    },
    "outputId": "9d6939e1-a370-4664-e050-a1a3ffa6f6d0"
   },
   "execution_count": 20,
   "outputs": [
    {
     "output_type": "execute_result",
     "data": {
      "text/plain": [
       "Eq(5*x - 3*z, y)"
      ],
      "text/latex": "$\\displaystyle 5 x - 3 z = y$"
     },
     "metadata": {},
     "execution_count": 20
    }
   ]
  },
  {
   "cell_type": "code",
   "source": [
    "# Solving the system of linear equations\n",
    "sp.linsolve([eq_lin1, eq_lin2], x, y, z)"
   ],
   "metadata": {
    "colab": {
     "base_uri": "https://localhost:8080/",
     "height": 58
    },
    "id": "V4FtOltxvlnM",
    "executionInfo": {
     "status": "ok",
     "timestamp": 1755379864677,
     "user_tz": 240,
     "elapsed": 12,
     "user": {
      "displayName": "Rishab Alagharu",
      "userId": "00430901930976372567"
     }
    },
    "outputId": "6e6a2b47-0509-4d2c-a7eb-40e4f2bd0d08"
   },
   "execution_count": 22,
   "outputs": [
    {
     "output_type": "execute_result",
     "data": {
      "text/plain": [
       "{(4*z/7, -z/7, z)}"
      ],
      "text/latex": "$\\displaystyle \\left\\{\\left( \\frac{4 z}{7}, \\  - \\frac{z}{7}, \\  z\\right)\\right\\}$"
     },
     "metadata": {},
     "execution_count": 22
    }
   ]
  }
 ]
}